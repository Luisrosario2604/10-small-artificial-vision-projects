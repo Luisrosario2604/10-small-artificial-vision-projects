{
 "cells": [
  {
   "cell_type": "markdown",
   "id": "19f34ae6",
   "metadata": {},
   "source": [
    "# Ejercicio 4"
   ]
  },
  {
   "cell_type": "markdown",
   "id": "579ed162",
   "metadata": {},
   "source": [
    "## Jupiter Notebook del ejercicio 3"
   ]
  },
  {
   "cell_type": "markdown",
   "id": "3b19409e",
   "metadata": {},
   "source": [
    "### Imports"
   ]
  },
  {
   "cell_type": "code",
   "execution_count": 1,
   "id": "4ea33ba4",
   "metadata": {},
   "outputs": [],
   "source": [
    "#!/usr/bin/python3\n",
    "# Importing python3 from local, just use \"python3 <binary>\" if is not the same location\n",
    "\n",
    "# /\n",
    "# ** Luis ROSARIO, 2021\n",
    "# ** Exercise 4 Software\n",
    "# ** File description:\n",
    "# ** CSV reader (notebook)\n",
    "# ** https://github.com/Luisrosario2604\n",
    "# */\n",
    "\n",
    "\n",
    "# Imports\n",
    "import numpy as np\n",
    "import pandas as pd\n",
    "from matplotlib import pyplot as plt\n",
    "import os"
   ]
  },
  {
   "cell_type": "markdown",
   "id": "647464a1",
   "metadata": {},
   "source": [
    "### Area 2D"
   ]
  },
  {
   "cell_type": "code",
   "execution_count": 2,
   "id": "a046a4c8",
   "metadata": {},
   "outputs": [],
   "source": [
    "def area2d(detection, groundtruth, output_graphs):\n",
    "    area_2d_detection = detection[:, 1]\n",
    "    area_2d_groundtruth = groundtruth[:, 1]\n",
    "\n",
    "    nan_values_area_2d = np.where(np.isnan(area_2d_detection) == True)[0].size\n",
    "    area_total = [\n",
    "        abs(area_2d_detection[i] - area_2d_groundtruth[i])\n",
    "        for i in range(area_2d_detection.size)\n",
    "        if not np.isnan(area_2d_detection[i])\n",
    "        and not np.isnan(area_2d_groundtruth[i])\n",
    "    ]\n",
    "\n",
    "    area_numbers = ['[0-50)', '[50-100)', '[100-150)', '[150-200)', '[200-250)', '[>250)']\n",
    "    area_2d_accuracy = []\n",
    "\n",
    "    area_total = np.array(area_total)\n",
    "\n",
    "    accuracy_50 = np.where(area_total < 50)[0].size\n",
    "    accuracy_100 = np.where(area_total < 100)[0].size - accuracy_50\n",
    "    accuracy_150 = np.where(area_total < 150)[0].size - accuracy_100 - accuracy_50\n",
    "    accuracy_200 = np.where(area_total < 200)[0].size - accuracy_150 - accuracy_100 - accuracy_50\n",
    "    accuracy_250 = np.where(area_total < 250)[0].size - accuracy_200 - accuracy_150 - accuracy_100 - accuracy_50\n",
    "    accuracy_300 = np.where(area_total >= 250)[0].size\n",
    "\n",
    "    area_2d_accuracy.append(accuracy_50  / (area_total.size + nan_values_area_2d) * 100)\n",
    "    area_2d_accuracy.append(accuracy_100 / (area_total.size + nan_values_area_2d) * 100)\n",
    "    area_2d_accuracy.append(accuracy_150 / (area_total.size + nan_values_area_2d) * 100)\n",
    "    area_2d_accuracy.append(accuracy_200 / (area_total.size + nan_values_area_2d) * 100)\n",
    "    area_2d_accuracy.append(accuracy_250 / (area_total.size + nan_values_area_2d) * 100)\n",
    "    area_2d_accuracy.append(accuracy_300 / (area_total.size + nan_values_area_2d) * 100)\n",
    "\n",
    "    print(\"Nan 2D : \" + str(nan_values_area_2d / (area_total.size + nan_values_area_2d) * 100) + \"%\")\n",
    "    print(\"area2d accuracy : \" + str(area_2d_accuracy))\n",
    "    print(str(sum(area_2d_accuracy) + nan_values_area_2d / (area_total.size + nan_values_area_2d) * 100) + \"%\")\n",
    "\n",
    "    plt.bar('errors', nan_values_area_2d / (area_total.size + nan_values_area_2d) * 100, align='center', color='k')\n",
    "    plt.bar(area_numbers, area_2d_accuracy, align='center', color='r', edgecolor='k')\n",
    "    plt.title('Area2D')\n",
    "    plt.xlabel('Squared feet error')\n",
    "    plt.ylabel('Percentage of blueprints')\n",
    "    plt.ylim([0, 100])\n",
    "\n",
    "    plt.savefig(output_graphs + 'area2D.png', bbox_inches='tight')\n",
    "    plt.show()"
   ]
  },
  {
   "cell_type": "markdown",
   "id": "f4f6bae8",
   "metadata": {},
   "source": [
    "### Area 3D"
   ]
  },
  {
   "cell_type": "code",
   "execution_count": 3,
   "id": "cb3f7f72",
   "metadata": {},
   "outputs": [],
   "source": [
    "def area3d(detection, groundtruth, output_graphs):\n",
    "    area_3d_detection = detection[:, 2]\n",
    "    area_3d_groundtruth = groundtruth[:, 2]\n",
    "\n",
    "    nan_values_area_3d = np.where(np.isnan(area_3d_detection) == True)[0].size\n",
    "    area_total = [\n",
    "        abs(area_3d_detection[i] - area_3d_groundtruth[i])\n",
    "        for i in range(area_3d_detection.size)\n",
    "        if not np.isnan(area_3d_detection[i])\n",
    "        and not np.isnan(area_3d_groundtruth[i])\n",
    "    ]\n",
    "\n",
    "    area_numbers = ['[0-50)', '[50-100)', '[100-150)', '[150-200)', '[200-250)', '[>250)']\n",
    "    area_3d_accuracy = []\n",
    "\n",
    "    area_total = np.array(area_total)\n",
    "\n",
    "    accuracy_50 = np.where(area_total < 50)[0].size\n",
    "    accuracy_100 = np.where(area_total < 100)[0].size - accuracy_50\n",
    "    accuracy_150 = np.where(area_total < 150)[0].size - accuracy_100 - accuracy_50\n",
    "    accuracy_200 = np.where(area_total < 200)[0].size - accuracy_150 - accuracy_100 - accuracy_50\n",
    "    accuracy_250 = np.where(area_total < 250)[0].size - accuracy_200 - accuracy_150 - accuracy_100 - accuracy_50\n",
    "    accuracy_300 = np.where(area_total >= 250)[0].size\n",
    "\n",
    "    area_3d_accuracy.append(accuracy_50  / (area_total.size + nan_values_area_3d) * 100)\n",
    "    area_3d_accuracy.append(accuracy_100 / (area_total.size + nan_values_area_3d) * 100)\n",
    "    area_3d_accuracy.append(accuracy_150 / (area_total.size + nan_values_area_3d) * 100)\n",
    "    area_3d_accuracy.append(accuracy_200 / (area_total.size + nan_values_area_3d) * 100)\n",
    "    area_3d_accuracy.append(accuracy_250 / (area_total.size + nan_values_area_3d) * 100)\n",
    "    area_3d_accuracy.append(accuracy_300 / (area_total.size + nan_values_area_3d) * 100)\n",
    "\n",
    "    print(\"Nan 3D : \" + str(nan_values_area_3d / (area_total.size + nan_values_area_3d) * 100) + \"%\")\n",
    "    print(\"area 3d accuracy : \" + str(area_3d_accuracy))\n",
    "    print(str(sum(area_3d_accuracy) + nan_values_area_3d / (area_total.size + nan_values_area_3d) * 100) + \"%\")\n",
    "\n",
    "    plt.bar('errors', nan_values_area_3d / (area_total.size + nan_values_area_3d) * 100, align='center', color='k')\n",
    "    plt.bar(area_numbers, area_3d_accuracy, align='center', color='r', edgecolor='k')\n",
    "    plt.title('Area3D')\n",
    "    plt.xlabel('Squared feet error')\n",
    "    plt.ylabel('Percentage of blueprints')\n",
    "    plt.ylim([0, 100])\n",
    "\n",
    "    plt.savefig(output_graphs + 'area3D.png', bbox_inches='tight')\n",
    "    plt.show()"
   ]
  },
  {
   "cell_type": "markdown",
   "id": "330f0329",
   "metadata": {},
   "source": [
    "### Complexity"
   ]
  },
  {
   "cell_type": "code",
   "execution_count": 4,
   "id": "030b19be",
   "metadata": {},
   "outputs": [],
   "source": [
    "def complexity(detection, groundtruth, output_graphs):\n",
    "    complexity_detection = detection[:, 3]\n",
    "    complexity_groundtruth = groundtruth[:, 3]\n",
    "\n",
    "    nan_values_complexity = np.where(np.isnan(complexity_detection) == True)[0].size\n",
    "    complexity_total = [\n",
    "        abs(complexity_detection[i] - complexity_groundtruth[i])\n",
    "        for i in range(complexity_detection.size)\n",
    "        if not np.isnan(complexity_detection[i])\n",
    "        and not np.isnan(complexity_groundtruth[i])\n",
    "    ]\n",
    "\n",
    "    complexity_numbers = ['0', '1', '2', '3', '>=4']\n",
    "    complexity_accuracy = []\n",
    "\n",
    "    complexity_total = np.array(complexity_total)\n",
    "\n",
    "    complexity_accuracy.append(np.where(complexity_total == 0)[0].size / (complexity_total.size + nan_values_complexity) * 100)\n",
    "    complexity_accuracy.append(np.where(complexity_total == 1)[0].size / (complexity_total.size + nan_values_complexity) * 100)\n",
    "    complexity_accuracy.append(np.where(complexity_total == 2)[0].size / (complexity_total.size + nan_values_complexity) * 100)\n",
    "    complexity_accuracy.append(np.where(complexity_total == 3)[0].size / (complexity_total.size + nan_values_complexity) * 100)\n",
    "    complexity_accuracy.append(np.where(complexity_total >= 4)[0].size / (complexity_total.size + nan_values_complexity) * 100)\n",
    "\n",
    "    print(\"Nan complexity : \" + str(nan_values_complexity / (complexity_total.size + nan_values_complexity) * 100) + \"%\")\n",
    "    print(\"complexity accuracy : \" + str(complexity_accuracy))\n",
    "    print(str(sum(complexity_accuracy) + nan_values_complexity / (complexity_total.size + nan_values_complexity) * 100) + \"%\")\n",
    "\n",
    "    plt.bar('errors', nan_values_complexity / (complexity_total.size + nan_values_complexity) * 100, align='center', color='k')\n",
    "    plt.bar(complexity_numbers, complexity_accuracy, align='center', color='r', edgecolor='k')\n",
    "    plt.title('Complexity')\n",
    "    plt.xlabel('Inches per foot')\n",
    "    plt.ylabel('Percentage of blueprints')\n",
    "    plt.ylim([0, 100])\n",
    "\n",
    "    plt.savefig(output_graphs + 'complexity.png', bbox_inches='tight')\n",
    "    plt.show()"
   ]
  },
  {
   "cell_type": "markdown",
   "id": "2ca41e2b",
   "metadata": {},
   "source": [
    "### Compute stats (main function)"
   ]
  },
  {
   "cell_type": "code",
   "execution_count": 5,
   "id": "64482688",
   "metadata": {},
   "outputs": [],
   "source": [
    "def compute_stats(inference_original, groundtruth_original, output_graphs):\n",
    "    df = pd.read_csv(inference_original)\n",
    "    df = df.replace('-', -1)\n",
    "    df.to_csv(\"./datasets/modified_detection.csv\", index=False)\n",
    "\n",
    "    df = pd.read_csv(groundtruth_original)\n",
    "    df = df.replace('-', -1)\n",
    "    df.to_csv(\"./datasets/modified_groundtruth.csv\", index=False)\n",
    "\n",
    "    detection = np.loadtxt(\"./datasets/modified_detection.csv\", delimiter=',', skiprows=1)\n",
    "    groundtruth = np.loadtxt(\"./datasets/modified_groundtruth.csv\", delimiter=',', skiprows=1)\n",
    "\n",
    "    detection = np.where(detection == -1, np.nan, detection)\n",
    "    groundtruth = np.where(groundtruth == -1, np.nan, groundtruth)\n",
    "\n",
    "    area2d(detection, groundtruth, output_graphs)\n",
    "    area3d(detection, groundtruth, output_graphs)\n",
    "    complexity(detection, groundtruth, output_graphs)"
   ]
  },
  {
   "cell_type": "markdown",
   "id": "3130e9b5",
   "metadata": {},
   "source": [
    "### Get arguments"
   ]
  },
  {
   "cell_type": "code",
   "execution_count": 6,
   "id": "561ae394",
   "metadata": {},
   "outputs": [],
   "source": [
    "def check_arguments(inference_original, groundtruth_original, output_graphs):\n",
    "    inference_original = str(inference_original)\n",
    "    groundtruth_original = str(groundtruth_original)\n",
    "    output_graphs = str(output_graphs)\n",
    "\n",
    "    if not os.path.exists(inference_original):\n",
    "        print(\"[ERROR] Inference should be an existing file (csv)\")\n",
    "        exit(84)\n",
    "\n",
    "    if not os.path.exists(groundtruth_original):\n",
    "        print(\"[ERROR] Groundtruth should be an existing file (csv)\")\n",
    "        exit(84)\n",
    "\n",
    "    _, extension = os.path.splitext(inference_original)\n",
    "    if extension != \".csv\":\n",
    "        print(\"[ERROR] Inference should be an existing file (csv)\")\n",
    "        exit(84)\n",
    "\n",
    "    _, extension = os.path.splitext(groundtruth_original)\n",
    "    if extension != \".csv\":\n",
    "        print(\"[ERROR] Groundtruth should be an existing file (csv)\")\n",
    "        exit(84)\n",
    "\n",
    "    if not os.path.isdir(output_graphs):\n",
    "        output_graphs = os.getcwd() + \"/\" + output_graphs\n",
    "        os.mkdir(output_graphs)\n",
    "    if output_graphs[-1] != \"/\":\n",
    "        output_graphs += \"/\"\n",
    "\n",
    "    return inference_original, groundtruth_original, output_graphs"
   ]
  },
  {
   "cell_type": "markdown",
   "id": "167fb3e2",
   "metadata": {},
   "source": [
    "### Settings parameters"
   ]
  },
  {
   "cell_type": "code",
   "execution_count": 7,
   "id": "a40135d1",
   "metadata": {},
   "outputs": [],
   "source": [
    "inference_original = \"./datasets/detection.csv\" #@param {type:\"string\"}\n",
    "groundtruth_original = \"./datasets/groundtruth.csv\" #@param {type:\"string\"}\n",
    "output_graphs = \"./output_stats\" #@param {type:\"string\"}"
   ]
  },
  {
   "cell_type": "markdown",
   "id": "dfff260e",
   "metadata": {},
   "source": [
    "### Checking arguments"
   ]
  },
  {
   "cell_type": "code",
   "execution_count": 8,
   "id": "6f3a19da",
   "metadata": {},
   "outputs": [],
   "source": [
    "inference_original, groundtruth_original, output_graphs = check_arguments(inference_original, groundtruth_original, output_graphs)"
   ]
  },
  {
   "cell_type": "markdown",
   "id": "9e5a3eb9",
   "metadata": {},
   "source": [
    "### Running all"
   ]
  },
  {
   "cell_type": "code",
   "execution_count": 9,
   "id": "01b7311b",
   "metadata": {},
   "outputs": [
    {
     "name": "stdout",
     "output_type": "stream",
     "text": [
      "Nan 2D : 7.168458781362006%\n",
      "area2d accuracy : [26.881720430107524, 14.336917562724013, 8.24372759856631, 6.451612903225806, 3.942652329749104, 32.97491039426524]\n",
      "100.0%\n"
     ]
    },
    {
     "data": {
      "image/png": "[encoded data removed]",
      "text/plain": [
       "<Figure size 432x288 with 1 Axes>"
      ]
     },
     "metadata": {
      "needs_background": "light"
     },
     "output_type": "display_data"
    },
    {
     "name": "stdout",
     "output_type": "stream",
     "text": [
      "Nan 3D : 7.168458781362006%\n",
      "area 3d accuracy : [2.867383512544803, 2.1505376344086025, 1.4336917562724014, 2.5089605734767026, 0.7168458781362007, 83.15412186379928]\n",
      "100.0%\n"
     ]
    },
    {
     "data": {
      "image/png": "[encoded data removed]",
      "text/plain": [
       "<Figure size 432x288 with 1 Axes>"
      ]
     },
     "metadata": {
      "needs_background": "light"
     },
     "output_type": "display_data"
    },
    {
     "name": "stdout",
     "output_type": "stream",
     "text": [
      "Nan complexity : 7.168458781362006%\n",
      "complexity accuracy : [77.41935483870968, 6.093189964157706, 3.225806451612903, 1.0752688172043012, 5.017921146953405]\n",
      "100.0%\n"
     ]
    },
    {
     "data": {
      "image/png": "[encoded data removed]",
      "text/plain": [
       "<Figure size 432x288 with 1 Axes>"
      ]
     },
     "metadata": {
      "needs_background": "light"
     },
     "output_type": "display_data"
    }
   ],
   "source": [
    "compute_stats(inference_original, groundtruth_original, output_graphs)"
   ]
  },
  {
   "cell_type": "code",
   "execution_count": null,
   "id": "ca4b6721",
   "metadata": {},
   "outputs": [],
   "source": []
  }
 ],
 "metadata": {
  "kernelspec": {
   "display_name": "Python 3 (ipykernel)",
   "language": "python",
   "name": "python3"
  },
  "language_info": {
   "codemirror_mode": {
    "name": "ipython",
    "version": 3
   },
   "file_extension": ".py",
   "mimetype": "text/x-python",
   "name": "python",
   "nbconvert_exporter": "python",
   "pygments_lexer": "ipython3",
   "version": "3.9.2"
  }
 },
 "nbformat": 4,
 "nbformat_minor": 5
}