{
 "cells": [
  {
   "cell_type": "markdown",
   "id": "3a7828b9",
   "metadata": {},
   "source": [
    "# Ejercicio 10"
   ]
  },
  {
   "cell_type": "markdown",
   "id": "f2d7edf2",
   "metadata": {},
   "source": [
    "### Imports"
   ]
  },
  {
   "cell_type": "code",
   "execution_count": null,
   "id": "403e2054",
   "metadata": {},
   "outputs": [],
   "source": [
    "#!/usr/bin/python3\n",
    "# Importing python3 from local, just use \"python3 <binary>\" if is not the same location\n",
    "\n",
    "# /\n",
    "# ** Luis ROSARIO, 2021\n",
    "# ** Exercise 7 Software\n",
    "# ** File description:\n",
    "# ** Media matcher (moovies)\n",
    "# ** https://github.com/Luisrosario2604\n",
    "# */\n",
    "\n",
    "# Imports\n",
    "import os\n",
    "from multiprocessing import Pool\n",
    "import imghdr\n",
    "import time\n",
    "import cv2\n",
    "\n",
    "valid_images = [\".jpg\", \".gif\", \".png\", \".tga\", \".jpeg\"]"
   ]
  },
  {
   "cell_type": "markdown",
   "id": "2da7f36a",
   "metadata": {},
   "source": [
    "### Configurable variables"
   ]
  },
  {
   "cell_type": "code",
   "execution_count": 2,
   "id": "bddde104",
   "metadata": {},
   "outputs": [],
   "source": [
    "query = \"./media/query/LGE.jpg\" #@param {type:\"string\"}\n",
    "covers = \"./media/covers/\" #@param {type:\"string\"}"
   ]
  },
  {
   "cell_type": "markdown",
   "id": "0ec57da9",
   "metadata": {},
   "source": [
    "### Checking the arguments"
   ]
  },
  {
   "cell_type": "code",
   "execution_count": 3,
   "id": "03cae0b4",
   "metadata": {},
   "outputs": [],
   "source": [
    "def check_arguments(query, covers):\n",
    "    \n",
    "\n",
    "    if not os.path.exists(query):\n",
    "        print(\"[ERROR] Original image should be an image\")\n",
    "        exit(84)\n",
    "\n",
    "    type = imghdr.what(query)\n",
    "\n",
    "    if type not in ['gif', 'jpeg', 'png', 'tiff', 'bmp']:\n",
    "        print(\"[ERROR] Original image should be an image\")\n",
    "        exit(84)\n",
    "\n",
    "    if not os.path.isdir(covers):\n",
    "        print(\"[ERROR] Image collection should be an existing directory\")\n",
    "        exit(84)\n",
    "\n",
    "    return query, covers"
   ]
  },
  {
   "cell_type": "code",
   "execution_count": 4,
   "id": "f41f28b0",
   "metadata": {},
   "outputs": [],
   "source": [
    "query, covers = check_arguments(query, covers)"
   ]
  },
  {
   "cell_type": "markdown",
   "id": "5b3d6393",
   "metadata": {},
   "source": [
    "### Getting the images of the second arguments (folder)"
   ]
  },
  {
   "cell_type": "code",
   "execution_count": 5,
   "id": "02a06cd2",
   "metadata": {},
   "outputs": [],
   "source": [
    "def get_images(input_dir):\n",
    "    images = []\n",
    "\n",
    "    for path in os.listdir(input_dir):\n",
    "        ext = os.path.splitext(path)[1]\n",
    "        if ext.lower() not in valid_images:\n",
    "            continue\n",
    "\n",
    "        filename = os.path.basename(path)\n",
    "        filename = filename[::-1]\n",
    "        filename = filename[filename.find('.') + 1:]\n",
    "        filename = filename[::-1]\n",
    "\n",
    "        images.append([os.path.join(input_dir, path), filename, ext])\n",
    "\n",
    "    if not images:\n",
    "        print(\"[ERROR] Not even one image found in the input directory\")\n",
    "        exit(84)\n",
    "\n",
    "    return images"
   ]
  },
  {
   "cell_type": "code",
   "execution_count": 6,
   "id": "3bfaa743",
   "metadata": {},
   "outputs": [],
   "source": [
    "images_covers = get_images(covers)"
   ]
  },
  {
   "cell_type": "markdown",
   "id": "3b3e8ce8",
   "metadata": {},
   "source": [
    "### Detection of the query with the images"
   ]
  },
  {
   "cell_type": "code",
   "execution_count": 7,
   "id": "f2348c8b",
   "metadata": {},
   "outputs": [],
   "source": [
    "def sift_detection(image):\n",
    "    img1 = cv2.imread(query, cv2.IMREAD_GRAYSCALE)  # queryImage\n",
    "    img2 = cv2.imread(image, cv2.IMREAD_GRAYSCALE)  # trainImage\n",
    "    # Initiate SIFT detector\n",
    "    sift = cv2.SIFT_create()\n",
    "    # find the keypoints and descriptors with SIFT\n",
    "    kp1, des1 = sift.detectAndCompute(img1, None)\n",
    "    kp2, des2 = sift.detectAndCompute(img2, None)\n",
    "    # BFMatcher with default params\n",
    "    bf = cv2.BFMatcher()\n",
    "    matches = bf.knnMatch(des1, des2, k=2)\n",
    "    # Apply ratio test\n",
    "    good = []\n",
    "    for m, n in matches:\n",
    "        if m.distance < 0.75 * n.distance:\n",
    "            good.append([m])\n",
    "    # cv22.drawMatchesKnn expects list of lists as matches.\n",
    "    img3 = cv2.drawMatchesKnn(img1, kp1, img2, kp2, good, None, flags=cv2.DrawMatchesFlags_NOT_DRAW_SINGLE_POINTS)\n",
    "\n",
    "    return [len(good), img3] "
   ]
  },
  {
   "cell_type": "markdown",
   "id": "aec86381",
   "metadata": {},
   "source": [
    "### With multiprocessing Pool"
   ]
  },
  {
   "cell_type": "code",
   "execution_count": 8,
   "id": "e504fc44",
   "metadata": {},
   "outputs": [
    {
     "name": "stdout",
     "output_type": "stream",
     "text": [
      "Elapsed (with compilation) = 1.4219388961791992\n"
     ]
    }
   ],
   "source": [
    "start = time.time()\n",
    "\n",
    "images_covers_names = []\n",
    "for i in images_covers:\n",
    "    images_covers_names.append(i[0])\n",
    "\n",
    "pool = Pool() # Create a multiprocessing Pool\n",
    "results = pool.map(sift_detection, images_covers_names)\n",
    "\n",
    "\n",
    "end = time.time()\n",
    "print(\"Elapsed (with compilation) = %s\" % (end - start))"
   ]
  },
  {
   "cell_type": "markdown",
   "id": "35906058",
   "metadata": {},
   "source": [
    "### Without multiprocessing Pool"
   ]
  },
  {
   "cell_type": "code",
   "execution_count": 9,
   "id": "46b4d92b",
   "metadata": {},
   "outputs": [
    {
     "name": "stdout",
     "output_type": "stream",
     "text": [
      "Elapsed (with compilation) = 1.667222023010254\n"
     ]
    }
   ],
   "source": [
    "start = time.time()\n",
    "\n",
    "result = []\n",
    "for i in images_covers:\n",
    "    result.append(sift_detection(i[0]))\n",
    "    \n",
    "end = time.time()\n",
    "\n",
    "print(\"Elapsed (with compilation) = %s\" % (end - start))"
   ]
  },
  {
   "cell_type": "markdown",
   "id": "49f34f21",
   "metadata": {},
   "source": [
    "### Result"
   ]
  },
  {
   "cell_type": "code",
   "execution_count": 10,
   "id": "c5312241",
   "metadata": {},
   "outputs": [],
   "source": [
    "minimum_score = 40\n",
    "best_match = None\n",
    "best_score = 0\n",
    "\n",
    "for r in result:\n",
    "    if r[0] >= best_score and r[0] >= minimum_score:\n",
    "        best_match = r[1]\n",
    "        best_score = r[0]\n",
    "\n",
    "if best_score == 0:\n",
    "    print(\"None of the covers found ! Should have more than 40 matches !\")\n",
    "else:\n",
    "    cv2.imshow('Number of matches : ' + str(best_score), best_match)\n",
    "\n",
    "    while True:\n",
    "        key = cv2.waitKey(1)\n",
    "        if key == ord('q'):\n",
    "            break\n",
    "\n",
    "    cv2.destroyAllWindows()"
   ]
  },
  {
   "cell_type": "markdown",
   "id": "02dfaff6",
   "metadata": {},
   "source": [
    "### I tried with 250 images \n",
    "\n",
    "##### Results :     \n",
    "###### 64.4s with multiprocessing Pool\n",
    "######  98.2s without multiprocessing Pool\n",
    "    "
   ]
  },
  {
   "cell_type": "code",
   "execution_count": null,
   "id": "149bdf52",
   "metadata": {},
   "outputs": [],
   "source": []
  }
 ],
 "metadata": {
  "kernelspec": {
   "display_name": "Python 3 (ipykernel)",
   "language": "python",
   "name": "python3"
  },
  "language_info": {
   "codemirror_mode": {
    "name": "ipython",
    "version": 3
   },
   "file_extension": ".py",
   "mimetype": "text/x-python",
   "name": "python",
   "nbconvert_exporter": "python",
   "pygments_lexer": "ipython3",
   "version": "3.9.2"
  }
 },
 "nbformat": 4,
 "nbformat_minor": 5
}
